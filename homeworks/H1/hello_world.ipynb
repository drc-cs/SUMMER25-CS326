{
 "cells": [
  {
   "cell_type": "markdown",
   "metadata": {},
   "source": [
    "# H.01 | Hello, World!\n",
    "\n",
    "Welcome to your first homework assignment for CS326! This notebook is a simple example of what you can expect for homework this quarter.\n",
    "\n",
    "The first cell imports the methods required from `hello_world.py`, which is located in the same folder as this notebook. "
   ]
  },
  {
   "cell_type": "code",
   "execution_count": 1,
   "metadata": {},
   "outputs": [],
   "source": [
    "# Autoreload allows you to refresh methods from imports without re-running this cell.\n",
    "%load_ext autoreload\n",
    "%autoreload 2\n",
    "\n",
    "# Import the required functions from hello_world.py.\n",
    "from hello_world import hello_world"
   ]
  },
  {
   "cell_type": "markdown",
   "metadata": {},
   "source": [
    "## Update Method to Match Results\n",
    "\n",
    "Update the method in `hello_world.py` to print \"Hello, World!\" to the console. The exact string must match before you submit. **You do not need to edit anything in these notebooks**, all editing should be done in the python file.\n",
    "\n",
    "If you try to run a cell without updating the function, you will receive a `NotImplementedError`. Update the `hello_world` method until you get the expected output."
   ]
  },
  {
   "cell_type": "code",
   "execution_count": 3,
   "metadata": {},
   "outputs": [
    {
     "data": {
      "text/plain": [
       "'Hello, World!'"
      ]
     },
     "execution_count": 3,
     "metadata": {},
     "output_type": "execute_result"
    }
   ],
   "source": [
    "hello_world()"
   ]
  },
  {
   "cell_type": "code",
   "execution_count": null,
   "metadata": {},
   "outputs": [],
   "source": []
  }
 ],
 "metadata": {
  "kernelspec": {
   "display_name": "cs326",
   "language": "python",
   "name": "python3"
  },
  "language_info": {
   "codemirror_mode": {
    "name": "ipython",
    "version": 3
   },
   "file_extension": ".py",
   "mimetype": "text/x-python",
   "name": "python",
   "nbconvert_exporter": "python",
   "pygments_lexer": "ipython3",
   "version": "3.10.16"
  }
 },
 "nbformat": 4,
 "nbformat_minor": 2
}
